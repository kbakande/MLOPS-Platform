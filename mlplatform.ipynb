{
 "cells": [
  {
   "cell_type": "code",
   "execution_count": 1,
   "id": "5b421861",
   "metadata": {},
   "outputs": [],
   "source": [
    "# import libraries\n",
    "import os\n",
    "\n",
    "# load all environment variables\n",
    "from dotenv import load_dotenv\n",
    "\n",
    "# Load environment variables from .env file\n",
    "load_dotenv()\n",
    "\n",
    "pipeline_root = os.environ['PIPELINE_ROOT']\n",
    "base_image = os.environ.get(\"CONTAINER_IMAGE\")\n",
    "project_id = os.environ['PROJECT_ID']\n",
    "region = os.environ['REGION']\n",
    "service_account = os.environ['SERVICE_ACCOUNT']\n",
    "artifact_repo = os.environ['ARTIFACT_REPO']\n",
    "model_display_name = os.environ['MODEL_DISPLAY_NAME']\n",
    "model_name = os.environ['MODEL_NAME']\n",
    "endpoint_name = os.environ['ENDPOINT_NAME']\n",
    "gcs_url = os.environ['GCS_URL']\n",
    "train_ratio = float(os.environ['TRAIN_RATIO'])"
   ]
  },
  {
   "cell_type": "code",
   "execution_count": 3,
   "id": "22027399",
   "metadata": {},
   "outputs": [
    {
     "name": "stderr",
     "output_type": "stream",
     "text": [
      "/var/folders/ry/26w9xk1j52d7mvm3ghqyhnq00000gn/T/ipykernel_63278/339227900.py:3: DeprecationWarning: The module `kfp.v2` is deprecated and will be removed in a futureversion. Please import directly from the `kfp` namespace, instead of `kfp.v2`.\n",
      "  from kfp.v2 import dsl\n"
     ]
    }
   ],
   "source": [
    "# %%writefile ../components/load_data.py\n",
    "\n",
    "from kfp.v2 import dsl\n",
    "from kfp.v2.dsl import Dataset, Output\n",
    "from dotenv import load_dotenv\n",
    "import os\n",
    "\n",
    "# Load environment variables from .env file\n",
    "load_dotenv()\n",
    "\n",
    "container_image = os.environ.get(\"CONTAINER_IMAGE\", \"python:3.8\") # Fallback to a default image if not set\n",
    "\n",
    "@dsl.component(base_image=base_image)\n",
    "def load_data(\n",
    "    gcs_url: str, \n",
    "    output_dataset: Output[Dataset]\n",
    "):\n",
    "    \"\"\"Download data from a GCS URL and save it to the specified path as a Dataset.\"\"\"\n",
    "    \n",
    "    # Logic-specific Imports\n",
    "    from google.cloud import storage\n",
    "    import pandas as pd\n",
    "\n",
    "    # Extract bucket and blob info from GCS URL\n",
    "    if not gcs_url.startswith(\"gs://\"):\n",
    "        raise ValueError(\"Invalid GCS URL format\")\n",
    "    parts = gcs_url[5:].split(\"/\", 1)\n",
    "    if len(parts) != 2:\n",
    "        raise ValueError(\"Invalid GCS URL format\")\n",
    "    bucket_name, blob_name = parts\n",
    "\n",
    "    # Create a GCS client\n",
    "    client = storage.Client()\n",
    "    bucket = client.bucket(bucket_name)\n",
    "    blob = bucket.blob(blob_name)\n",
    "\n",
    "    # Read the contents into Pandas DataFrame\n",
    "    df = pd.read_csv(blob.open(\"rb\"))\n",
    "\n",
    "    # Save to the specified path as Dataset\n",
    "    df.to_csv(output_dataset.path, index=False)\n",
    "    output_dataset.metadata['dataset_metadata'] = {'format': 'csv'}"
   ]
  },
  {
   "cell_type": "code",
   "execution_count": null,
   "id": "9b7ae698",
   "metadata": {},
   "outputs": [],
   "source": [
    "# %%writefile ../components/preprocess_data.py\n",
    "\n",
    "from kfp.v2 import dsl\n",
    "from kfp.v2.dsl import Dataset, Input, Output\n",
    "from dotenv import load_dotenv\n",
    "import os\n",
    "\n",
    "@dsl.component(base_image=base_image                                                       )\n",
    "def preprocess_data(\n",
    "    input_dataset: Input[Dataset], \n",
    "    train_dataset: Output[Dataset],\n",
    "    test_dataset: Output[Dataset],\n",
    "    train_size: float = 0.7  # Updated to reflect the 70:30 split\n",
    "):\n",
    "    \"\"\"Preprocess data by partitioning it into training and testing sets.\"\"\"\n",
    "    \n",
    "    # Logic-specific Imports\n",
    "    import pandas as pd\n",
    "    from sklearn.model_selection import train_test_split\n",
    "    \n",
    "    # Load dataset\n",
    "    df = pd.read_csv(input_dataset.path)\n",
    "    df = df.dropna()\n",
    "\n",
    "    # Check if the last column is the target and contains 'Yes'/'No', then convert it to 1/0\n",
    "    if set(df.iloc[:, -1].unique()) == {'Yes', 'No'}:\n",
    "        df.iloc[:, -1] = df.iloc[:, -1].map({'Yes': 1, 'No': 0})\n",
    "\n",
    "    # Splitting data into training and testing sets\n",
    "    train_data, test_data = train_test_split(df, train_size=train_size, random_state=42)\n",
    "\n",
    "    # Saving the datasets\n",
    "    train_data.to_csv(train_dataset.path, index=False)\n",
    "    test_data.to_csv(test_dataset.path, index=False)"
   ]
  },
  {
   "cell_type": "code",
   "execution_count": 8,
   "id": "bdf5a624",
   "metadata": {},
   "outputs": [
    {
     "ename": "NameError",
     "evalue": "name 'preprocess' is not defined",
     "output_type": "error",
     "traceback": [
      "\u001b[0;31m---------------------------------------------------------------------------\u001b[0m",
      "\u001b[0;31mNameError\u001b[0m                                 Traceback (most recent call last)",
      "Cell \u001b[0;32mIn[8], line 7\u001b[0m\n\u001b[1;32m      4\u001b[0m \u001b[38;5;28;01mfrom\u001b[39;00m \u001b[38;5;21;01mkfp\u001b[39;00m\u001b[38;5;21;01m.\u001b[39;00m\u001b[38;5;21;01mv2\u001b[39;00m \u001b[38;5;28;01mimport\u001b[39;00m compiler\n\u001b[1;32m      5\u001b[0m \u001b[38;5;28;01mimport\u001b[39;00m \u001b[38;5;21;01mos\u001b[39;00m\n\u001b[0;32m----> 7\u001b[0m \u001b[38;5;129;43m@dsl\u001b[39;49m\u001b[38;5;241;43m.\u001b[39;49m\u001b[43mpipeline\u001b[49m\u001b[43m(\u001b[49m\n\u001b[1;32m      8\u001b[0m \u001b[43m    \u001b[49m\u001b[43mname\u001b[49m\u001b[38;5;241;43m=\u001b[39;49m\u001b[38;5;124;43m\"\u001b[39;49m\u001b[38;5;124;43mData Loading and Preprocessing\u001b[39;49m\u001b[38;5;124;43m\"\u001b[39;49m\u001b[43m,\u001b[49m\n\u001b[1;32m      9\u001b[0m \u001b[43m    \u001b[49m\u001b[43mdescription\u001b[49m\u001b[38;5;241;43m=\u001b[39;49m\u001b[38;5;124;43m\"\u001b[39;49m\u001b[38;5;124;43mA pipeline that loads data, preprocesses it, and deploys the best model.\u001b[39;49m\u001b[38;5;124;43m\"\u001b[39;49m\u001b[43m,\u001b[49m\n\u001b[1;32m     10\u001b[0m \u001b[43m    \u001b[49m\u001b[43mpipeline_root\u001b[49m\u001b[38;5;241;43m=\u001b[39;49m\u001b[43mpipeline_root\u001b[49m\n\u001b[1;32m     11\u001b[0m \u001b[43m)\u001b[49m\n\u001b[1;32m     12\u001b[0m \u001b[38;5;28;43;01mdef\u001b[39;49;00m\u001b[43m \u001b[49m\u001b[38;5;21;43mmlplatform_pipeline\u001b[39;49m\u001b[43m(\u001b[49m\n\u001b[1;32m     13\u001b[0m \u001b[43m    \u001b[49m\u001b[43mgcs_url\u001b[49m\u001b[43m:\u001b[49m\u001b[43m \u001b[49m\u001b[38;5;28;43mstr\u001b[39;49m\u001b[43m \u001b[49m\u001b[38;5;241;43m=\u001b[39;49m\u001b[43m \u001b[49m\u001b[43mgcs_url\u001b[49m\u001b[43m,\u001b[49m\n\u001b[1;32m     14\u001b[0m \u001b[43m    \u001b[49m\u001b[43m)\u001b[49m\u001b[43m:\u001b[49m\n\u001b[1;32m     15\u001b[0m \u001b[43m    \u001b[49m\u001b[43mload_data_op\u001b[49m\u001b[43m \u001b[49m\u001b[38;5;241;43m=\u001b[39;49m\u001b[43m \u001b[49m\u001b[43mload_data\u001b[49m\u001b[43m(\u001b[49m\u001b[43mgcs_url\u001b[49m\u001b[38;5;241;43m=\u001b[39;49m\u001b[43mgcs_url\u001b[49m\u001b[43m)\u001b[49m\n\u001b[1;32m     16\u001b[0m \u001b[43m    \u001b[49m\u001b[43mpreprocess_data_op\u001b[49m\u001b[43m \u001b[49m\u001b[38;5;241;43m=\u001b[39;49m\u001b[43m \u001b[49m\u001b[43mpreprocess\u001b[49m\n",
      "File \u001b[0;32m~/Library/Caches/pypoetry/virtualenvs/ml-platform-QSuSDQ3B-py3.11/lib/python3.11/site-packages/kfp/dsl/pipeline_context.py:65\u001b[0m, in \u001b[0;36mpipeline\u001b[0;34m(func, name, description, pipeline_root, display_name)\u001b[0m\n\u001b[1;32m     62\u001b[0m \u001b[38;5;28;01mif\u001b[39;00m pipeline_root:\n\u001b[1;32m     63\u001b[0m     func\u001b[38;5;241m.\u001b[39mpipeline_root \u001b[38;5;241m=\u001b[39m pipeline_root\n\u001b[0;32m---> 65\u001b[0m \u001b[38;5;28;01mreturn\u001b[39;00m \u001b[43mcomponent_factory\u001b[49m\u001b[38;5;241;43m.\u001b[39;49m\u001b[43mcreate_graph_component_from_func\u001b[49m\u001b[43m(\u001b[49m\n\u001b[1;32m     66\u001b[0m \u001b[43m    \u001b[49m\u001b[43mfunc\u001b[49m\u001b[43m,\u001b[49m\n\u001b[1;32m     67\u001b[0m \u001b[43m    \u001b[49m\u001b[43mname\u001b[49m\u001b[38;5;241;43m=\u001b[39;49m\u001b[43mname\u001b[49m\u001b[43m,\u001b[49m\n\u001b[1;32m     68\u001b[0m \u001b[43m    \u001b[49m\u001b[43mdescription\u001b[49m\u001b[38;5;241;43m=\u001b[39;49m\u001b[43mdescription\u001b[49m\u001b[43m,\u001b[49m\n\u001b[1;32m     69\u001b[0m \u001b[43m    \u001b[49m\u001b[43mdisplay_name\u001b[49m\u001b[38;5;241;43m=\u001b[39;49m\u001b[43mdisplay_name\u001b[49m\u001b[43m,\u001b[49m\n\u001b[1;32m     70\u001b[0m \u001b[43m\u001b[49m\u001b[43m)\u001b[49m\n",
      "File \u001b[0;32m~/Library/Caches/pypoetry/virtualenvs/ml-platform-QSuSDQ3B-py3.11/lib/python3.11/site-packages/kfp/dsl/component_factory.py:669\u001b[0m, in \u001b[0;36mcreate_graph_component_from_func\u001b[0;34m(func, name, description, display_name)\u001b[0m\n\u001b[1;32m    658\u001b[0m \u001b[38;5;250m\u001b[39m\u001b[38;5;124;03m\"\"\"Implementation for the @pipeline decorator.\u001b[39;00m\n\u001b[1;32m    659\u001b[0m \n\u001b[1;32m    660\u001b[0m \u001b[38;5;124;03mThe decorator is defined under pipeline_context.py. See the\u001b[39;00m\n\u001b[1;32m    661\u001b[0m \u001b[38;5;124;03mdecorator for the canonical documentation for this function.\u001b[39;00m\n\u001b[1;32m    662\u001b[0m \u001b[38;5;124;03m\"\"\"\u001b[39;00m\n\u001b[1;32m    664\u001b[0m component_spec \u001b[38;5;241m=\u001b[39m extract_component_interface(\n\u001b[1;32m    665\u001b[0m     func,\n\u001b[1;32m    666\u001b[0m     description\u001b[38;5;241m=\u001b[39mdescription,\n\u001b[1;32m    667\u001b[0m     name\u001b[38;5;241m=\u001b[39mname,\n\u001b[1;32m    668\u001b[0m )\n\u001b[0;32m--> 669\u001b[0m \u001b[38;5;28;01mreturn\u001b[39;00m \u001b[43mgraph_component\u001b[49m\u001b[38;5;241;43m.\u001b[39;49m\u001b[43mGraphComponent\u001b[49m\u001b[43m(\u001b[49m\n\u001b[1;32m    670\u001b[0m \u001b[43m    \u001b[49m\u001b[43mcomponent_spec\u001b[49m\u001b[38;5;241;43m=\u001b[39;49m\u001b[43mcomponent_spec\u001b[49m\u001b[43m,\u001b[49m\n\u001b[1;32m    671\u001b[0m \u001b[43m    \u001b[49m\u001b[43mpipeline_func\u001b[49m\u001b[38;5;241;43m=\u001b[39;49m\u001b[43mfunc\u001b[49m\u001b[43m,\u001b[49m\n\u001b[1;32m    672\u001b[0m \u001b[43m    \u001b[49m\u001b[43mdisplay_name\u001b[49m\u001b[38;5;241;43m=\u001b[39;49m\u001b[43mdisplay_name\u001b[49m\u001b[43m,\u001b[49m\n\u001b[1;32m    673\u001b[0m \u001b[43m\u001b[49m\u001b[43m)\u001b[49m\n",
      "File \u001b[0;32m~/Library/Caches/pypoetry/virtualenvs/ml-platform-QSuSDQ3B-py3.11/lib/python3.11/site-packages/kfp/dsl/graph_component.py:58\u001b[0m, in \u001b[0;36mGraphComponent.__init__\u001b[0;34m(self, component_spec, pipeline_func, display_name)\u001b[0m\n\u001b[1;32m     49\u001b[0m     args_list\u001b[38;5;241m.\u001b[39mappend(\n\u001b[1;32m     50\u001b[0m         pipeline_channel\u001b[38;5;241m.\u001b[39mcreate_pipeline_channel(\n\u001b[1;32m     51\u001b[0m             name\u001b[38;5;241m=\u001b[39marg_name,\n\u001b[1;32m     52\u001b[0m             channel_type\u001b[38;5;241m=\u001b[39minput_spec\u001b[38;5;241m.\u001b[39mtype,\n\u001b[1;32m     53\u001b[0m             is_artifact_list\u001b[38;5;241m=\u001b[39minput_spec\u001b[38;5;241m.\u001b[39mis_artifact_list,\n\u001b[1;32m     54\u001b[0m         ))\n\u001b[1;32m     56\u001b[0m \u001b[38;5;28;01mwith\u001b[39;00m pipeline_context\u001b[38;5;241m.\u001b[39mPipeline(\n\u001b[1;32m     57\u001b[0m         \u001b[38;5;28mself\u001b[39m\u001b[38;5;241m.\u001b[39mcomponent_spec\u001b[38;5;241m.\u001b[39mname) \u001b[38;5;28;01mas\u001b[39;00m dsl_pipeline:\n\u001b[0;32m---> 58\u001b[0m     pipeline_outputs \u001b[38;5;241m=\u001b[39m \u001b[43mpipeline_func\u001b[49m\u001b[43m(\u001b[49m\u001b[38;5;241;43m*\u001b[39;49m\u001b[43margs_list\u001b[49m\u001b[43m)\u001b[49m\n\u001b[1;32m     60\u001b[0m \u001b[38;5;28;01mif\u001b[39;00m \u001b[38;5;129;01mnot\u001b[39;00m dsl_pipeline\u001b[38;5;241m.\u001b[39mtasks:\n\u001b[1;32m     61\u001b[0m     \u001b[38;5;28;01mraise\u001b[39;00m \u001b[38;5;167;01mValueError\u001b[39;00m(\u001b[38;5;124m'\u001b[39m\u001b[38;5;124mTask is missing from pipeline.\u001b[39m\u001b[38;5;124m'\u001b[39m)\n",
      "Cell \u001b[0;32mIn[8], line 16\u001b[0m, in \u001b[0;36mmlplatform_pipeline\u001b[0;34m(gcs_url)\u001b[0m\n\u001b[1;32m      7\u001b[0m \u001b[38;5;129m@dsl\u001b[39m\u001b[38;5;241m.\u001b[39mpipeline(\n\u001b[1;32m      8\u001b[0m     name\u001b[38;5;241m=\u001b[39m\u001b[38;5;124m\"\u001b[39m\u001b[38;5;124mData Loading and Preprocessing\u001b[39m\u001b[38;5;124m\"\u001b[39m,\n\u001b[1;32m      9\u001b[0m     description\u001b[38;5;241m=\u001b[39m\u001b[38;5;124m\"\u001b[39m\u001b[38;5;124mA pipeline that loads data, preprocesses it, and deploys the best model.\u001b[39m\u001b[38;5;124m\"\u001b[39m,\n\u001b[0;32m   (...)\u001b[0m\n\u001b[1;32m     13\u001b[0m     gcs_url: \u001b[38;5;28mstr\u001b[39m \u001b[38;5;241m=\u001b[39m gcs_url,\n\u001b[1;32m     14\u001b[0m     ):\n\u001b[1;32m     15\u001b[0m     load_data_op \u001b[38;5;241m=\u001b[39m load_data(gcs_url\u001b[38;5;241m=\u001b[39mgcs_url)\n\u001b[0;32m---> 16\u001b[0m     preprocess_data_op \u001b[38;5;241m=\u001b[39m \u001b[43mpreprocess\u001b[49m\n",
      "\u001b[0;31mNameError\u001b[0m: name 'preprocess' is not defined"
     ]
    }
   ],
   "source": [
    "# %%writefile ../components/mlplatform_pipeline.py\n",
    "\n",
    "from kfp.v2 import dsl\n",
    "from kfp.v2 import compiler\n",
    "import os\n",
    "\n",
    "@dsl.pipeline(\n",
    "    name=\"Data Loading and Preprocessing\",\n",
    "    description=\"A pipeline that loads data, preprocesses it, and deploys the best model.\",\n",
    "    pipeline_root=pipeline_root\n",
    ")\n",
    "def mlplatform_pipeline(\n",
    "    gcs_url: str = gcs_url,\n",
    "    ):\n",
    "    load_data_op = load_data(gcs_url=gcs_url)\n",
    "    preprocess_data_op = preprocess(input_dataset=load_data,\n",
    "                                    , train_size) "
   ]
  },
  {
   "cell_type": "code",
   "execution_count": 6,
   "id": "d7607b8a",
   "metadata": {},
   "outputs": [],
   "source": [
    "\n",
    "\n",
    "\n",
    "# generate a JSON file that you'll use to run the pipeline:\n",
    "compiler.Compiler().compile(pipeline_func=mlplatform_pipeline, package_path=\"pipeline.json\")"
   ]
  },
  {
   "cell_type": "code",
   "execution_count": 7,
   "id": "8fd19c3a",
   "metadata": {},
   "outputs": [
    {
     "name": "stdout",
     "output_type": "stream",
     "text": [
      "Creating PipelineJob\n",
      "PipelineJob created. Resource name: projects/546917293276/locations/europe-west1/pipelineJobs/ml-pipeline-20231230093504\n",
      "To use this PipelineJob in another session:\n",
      "pipeline_job = aiplatform.PipelineJob.get('projects/546917293276/locations/europe-west1/pipelineJobs/ml-pipeline-20231230093504')\n",
      "View Pipeline Job:\n",
      "https://console.cloud.google.com/vertex-ai/locations/europe-west1/pipelines/runs/ml-pipeline-20231230093504?project=546917293276\n"
     ]
    }
   ],
   "source": [
    "from datetime import datetime\n",
    "from google.cloud import aiplatform, aiplatform_v1\n",
    "\n",
    "TIMESTAMP = datetime.now().strftime(\"%Y%m%d%H%M%S\")\n",
    "\n",
    "# create vertex pipeline job\n",
    "api_client = aiplatform.PipelineJob(\n",
    "    display_name=\"ml-pipeline\",\n",
    "    template_path=\"pipeline.json\",\n",
    "    job_id=f\"ml-pipeline-{TIMESTAMP}\",\n",
    "    enable_caching=False,\n",
    "    project=project_id,\n",
    "    location=region,\n",
    "    parameter_values={\n",
    "        \"gcs_url\": gcs_url,\n",
    "#         \"train_ratio\": train_ratio,\n",
    "#         \"model_display_name\": model_display_name,\n",
    "#         \"model_name\": model_name,\n",
    "#         \"endpoint_name\": endpoint_name,\n",
    "#         project: str,\n",
    "#         \"location\": str,\n",
    "#         \"container_image\": container_image\n",
    "    }\n",
    ")\n",
    "\n",
    "# run vertex pipeline job\n",
    "api_client.submit(service_account=service_account)"
   ]
  }
 ],
 "metadata": {
  "kernelspec": {
   "display_name": "Python (Poetry Env)",
   "language": "python",
   "name": "ml-platform-py3.11"
  },
  "language_info": {
   "codemirror_mode": {
    "name": "ipython",
    "version": 3
   },
   "file_extension": ".py",
   "mimetype": "text/x-python",
   "name": "python",
   "nbconvert_exporter": "python",
   "pygments_lexer": "ipython3",
   "version": "3.11.4"
  }
 },
 "nbformat": 4,
 "nbformat_minor": 5
}
