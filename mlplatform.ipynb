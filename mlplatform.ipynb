{
 "cells": [
  {
   "cell_type": "code",
   "execution_count": 1,
   "id": "c35f51a8",
   "metadata": {},
   "outputs": [],
   "source": [
    "# import libraries\n",
    "import os\n",
    "\n",
    "# load all environment variables\n",
    "from dotenv import load_dotenv\n",
    "\n",
    "# Load environment variables from .env file\n",
    "load_dotenv()\n",
    "\n",
    "pipeline_root = os.environ['PIPELINE_ROOT']\n",
    "base_image = os.environ.get(\"CONTAINER_IMAGE\")\n",
    "project_id = os.environ['PROJECT_ID']\n",
    "region = os.environ['REGION']\n",
    "service_account = os.environ['SERVICE_ACCOUNT']\n",
    "artifact_repo = os.environ['ARTIFACT_REPO']\n",
    "model_display_name = os.environ['MODEL_DISPLAY_NAME']\n",
    "model_name = os.environ['MODEL_NAME']\n",
    "endpoint_name = os.environ['ENDPOINT_NAME']\n",
    "gcs_url = os.environ['GCS_URL']\n",
    "train_ratio = float(os.environ['TRAIN_RATIO'])"
   ]
  },
  {
   "cell_type": "code",
   "execution_count": 2,
   "id": "98446237",
   "metadata": {},
   "outputs": [
    {
     "name": "stderr",
     "output_type": "stream",
     "text": [
      "/var/folders/ry/26w9xk1j52d7mvm3ghqyhnq00000gn/T/ipykernel_60025/339227900.py:3: DeprecationWarning: The module `kfp.v2` is deprecated and will be removed in a futureversion. Please import directly from the `kfp` namespace, instead of `kfp.v2`.\n",
      "  from kfp.v2 import dsl\n"
     ]
    }
   ],
   "source": [
    "# %%writefile ../components/load_data.py\n",
    "\n",
    "from kfp.v2 import dsl\n",
    "from kfp.v2.dsl import Dataset, Output\n",
    "from dotenv import load_dotenv\n",
    "import os\n",
    "\n",
    "# Load environment variables from .env file\n",
    "load_dotenv()\n",
    "\n",
    "container_image = os.environ.get(\"CONTAINER_IMAGE\", \"python:3.8\") # Fallback to a default image if not set\n",
    "\n",
    "@dsl.component(base_image=base_image)\n",
    "def load_data(\n",
    "    gcs_url: str, \n",
    "    output_dataset: Output[Dataset]\n",
    "):\n",
    "    \"\"\"Download data from a GCS URL and save it to the specified path as a Dataset.\"\"\"\n",
    "    \n",
    "    # Logic-specific Imports\n",
    "    from google.cloud import storage\n",
    "    import pandas as pd\n",
    "\n",
    "    # Extract bucket and blob info from GCS URL\n",
    "    if not gcs_url.startswith(\"gs://\"):\n",
    "        raise ValueError(\"Invalid GCS URL format\")\n",
    "    parts = gcs_url[5:].split(\"/\", 1)\n",
    "    if len(parts) != 2:\n",
    "        raise ValueError(\"Invalid GCS URL format\")\n",
    "    bucket_name, blob_name = parts\n",
    "\n",
    "    # Create a GCS client\n",
    "    client = storage.Client()\n",
    "    bucket = client.bucket(bucket_name)\n",
    "    blob = bucket.blob(blob_name)\n",
    "\n",
    "    # Read the contents into Pandas DataFrame\n",
    "    df = pd.read_csv(blob.open(\"rb\"))\n",
    "\n",
    "    # Save to the specified path as Dataset\n",
    "    df.to_csv(output_dataset.path, index=False)\n",
    "    output_dataset.metadata['dataset_metadata'] = {'format': 'csv'}"
   ]
  },
  {
   "cell_type": "code",
   "execution_count": null,
   "id": "9fa795fa",
   "metadata": {},
   "outputs": [],
   "source": []
  }
 ],
 "metadata": {
  "kernelspec": {
   "display_name": "Python 3 (ipykernel)",
   "language": "python",
   "name": "python3"
  },
  "language_info": {
   "codemirror_mode": {
    "name": "ipython",
    "version": 3
   },
   "file_extension": ".py",
   "mimetype": "text/x-python",
   "name": "python",
   "nbconvert_exporter": "python",
   "pygments_lexer": "ipython3",
   "version": "3.9.17"
  }
 },
 "nbformat": 4,
 "nbformat_minor": 5
}
