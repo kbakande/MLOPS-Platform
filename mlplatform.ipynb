{
 "cells": [
  {
   "cell_type": "code",
   "execution_count": null,
   "id": "01c307c1",
   "metadata": {},
   "outputs": [],
   "source": [
    "# import libraries\n",
    "import os\n",
    "\n",
    "# load all environment variables\n",
    "from dotenv import load_dotenv\n",
    "\n",
    "# Load environment variables from .env file\n",
    "load_dotenv()\n",
    "\n",
    "pipeline_root = os.environ['PIPELINE_ROOT']\n",
    "container_image = os.environ.get(\"CONTAINER_IMAGE\")\n",
    "project_id = os.environ['PROJECT_ID']\n",
    "region = os.environ['REGION']\n",
    "service_account = os.environ['SERVICE_ACCOUNT']\n",
    "artifact_repo = os.environ['ARTIFACT_REPO']\n",
    "model_display_name = os.environ['MODEL_DISPLAY_NAME']\n",
    "model_name = os.environ['MODEL_NAME']\n",
    "endpoint_name = os.environ['ENDPOINT_NAME']\n",
    "gcs_url = os.environ['GCS_URL']\n",
    "train_ratio = float(os.environ['TRAIN_RATIO'])\n",
    "serving_image = os.environ['SERVING_IMAGE']"
   ]
  }
 ],
 "metadata": {
  "kernelspec": {
   "display_name": "Python 3 (ipykernel)",
   "language": "python",
   "name": "python3"
  },
  "language_info": {
   "codemirror_mode": {
    "name": "ipython",
    "version": 3
   },
   "file_extension": ".py",
   "mimetype": "text/x-python",
   "name": "python",
   "nbconvert_exporter": "python",
   "pygments_lexer": "ipython3",
   "version": "3.9.17"
  }
 },
 "nbformat": 4,
 "nbformat_minor": 5
}
