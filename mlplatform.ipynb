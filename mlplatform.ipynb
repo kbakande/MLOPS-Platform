{
 "cells": [
  {
   "cell_type": "code",
   "execution_count": 1,
   "id": "5b421861",
   "metadata": {},
   "outputs": [],
   "source": [
    "# import libraries\n",
    "import os\n",
    "\n",
    "# load all environment variables\n",
    "from dotenv import load_dotenv\n",
    "\n",
    "# Load environment variables from .env file\n",
    "load_dotenv()\n",
    "\n",
    "pipeline_root = os.environ['PIPELINE_ROOT']\n",
    "base_image = os.environ.get(\"CONTAINER_IMAGE\")\n",
    "project_id = os.environ['PROJECT_ID']\n",
    "region = os.environ['REGION']\n",
    "service_account = os.environ['SERVICE_ACCOUNT']\n",
    "artifact_repo = os.environ['ARTIFACT_REPO']\n",
    "model_display_name = os.environ['MODEL_DISPLAY_NAME']\n",
    "model_name = os.environ['MODEL_NAME']\n",
    "endpoint_name = os.environ['ENDPOINT_NAME']\n",
    "gcs_url = os.environ['GCS_URL']\n",
    "train_ratio = float(os.environ['TRAIN_RATIO'])"
   ]
  },
  {
   "cell_type": "code",
   "execution_count": 2,
   "id": "22027399",
   "metadata": {},
   "outputs": [
    {
     "name": "stderr",
     "output_type": "stream",
     "text": [
      "/var/folders/ry/26w9xk1j52d7mvm3ghqyhnq00000gn/T/ipykernel_60025/339227900.py:3: DeprecationWarning: The module `kfp.v2` is deprecated and will be removed in a futureversion. Please import directly from the `kfp` namespace, instead of `kfp.v2`.\n",
      "  from kfp.v2 import dsl\n"
     ]
    }
   ],
   "source": [
    "# %%writefile ../components/load_data.py\n",
    "\n",
    "from kfp.v2 import dsl\n",
    "from kfp.v2.dsl import Dataset, Output\n",
    "from dotenv import load_dotenv\n",
    "import os\n",
    "\n",
    "# Load environment variables from .env file\n",
    "load_dotenv()\n",
    "\n",
    "container_image = os.environ.get(\"CONTAINER_IMAGE\", \"python:3.8\") # Fallback to a default image if not set\n",
    "\n",
    "@dsl.component(base_image=base_image)\n",
    "def load_data(\n",
    "    gcs_url: str, \n",
    "    output_dataset: Output[Dataset]\n",
    "):\n",
    "    \"\"\"Download data from a GCS URL and save it to the specified path as a Dataset.\"\"\"\n",
    "    \n",
    "    # Logic-specific Imports\n",
    "    from google.cloud import storage\n",
    "    import pandas as pd\n",
    "\n",
    "    # Extract bucket and blob info from GCS URL\n",
    "    if not gcs_url.startswith(\"gs://\"):\n",
    "        raise ValueError(\"Invalid GCS URL format\")\n",
    "    parts = gcs_url[5:].split(\"/\", 1)\n",
    "    if len(parts) != 2:\n",
    "        raise ValueError(\"Invalid GCS URL format\")\n",
    "    bucket_name, blob_name = parts\n",
    "\n",
    "    # Create a GCS client\n",
    "    client = storage.Client()\n",
    "    bucket = client.bucket(bucket_name)\n",
    "    blob = bucket.blob(blob_name)\n",
    "\n",
    "    # Read the contents into Pandas DataFrame\n",
    "    df = pd.read_csv(blob.open(\"rb\"))\n",
    "\n",
    "    # Save to the specified path as Dataset\n",
    "    df.to_csv(output_dataset.path, index=False)\n",
    "    output_dataset.metadata['dataset_metadata'] = {'format': 'csv'}"
   ]
  },
  {
   "cell_type": "code",
   "execution_count": 3,
   "id": "bdf5a624",
   "metadata": {},
   "outputs": [],
   "source": [
    "# %%writefile ../components/mlplatform_pipeline.py\n",
    "\n",
    "from kfp.v2 import dsl\n",
    "from kfp.v2 import compiler\n",
    "import os\n",
    "\n",
    "@dsl.pipeline(\n",
    "    name=\"Data Loading and Preprocessing\",\n",
    "    description=\"A pipeline that loads data, preprocesses it, and deploys the best model.\",\n",
    "    pipeline_root=pipeline_root\n",
    ")\n",
    "def mlplatform_pipeline(\n",
    "    gcs_url: str = gcs_url,\n",
    "    ):\n",
    "    load_data_op = load_data(gcs_url=gcs_url)\n"
   ]
  },
  {
   "cell_type": "code",
   "execution_count": 4,
   "id": "d7607b8a",
   "metadata": {},
   "outputs": [],
   "source": [
    "# generate a JSON file that you'll use to run the pipeline:\n",
    "compiler.Compiler().compile(pipeline_func=mlplatform_pipeline, package_path=\"pipeline.json\")"
   ]
  },
  {
   "cell_type": "code",
   "execution_count": 5,
   "id": "8fd19c3a",
   "metadata": {},
   "outputs": [
    {
     "ename": "ImportError",
     "evalue": "cannot import name 'aiplatform' from 'google.cloud' (unknown location)",
     "output_type": "error",
     "traceback": [
      "\u001b[0;31m---------------------------------------------------------------------------\u001b[0m",
      "\u001b[0;31mImportError\u001b[0m                               Traceback (most recent call last)",
      "Input \u001b[0;32mIn [5]\u001b[0m, in \u001b[0;36m<cell line: 2>\u001b[0;34m()\u001b[0m\n\u001b[1;32m      1\u001b[0m \u001b[38;5;28;01mfrom\u001b[39;00m \u001b[38;5;21;01mdatetime\u001b[39;00m \u001b[38;5;28;01mimport\u001b[39;00m datetime\n\u001b[0;32m----> 2\u001b[0m \u001b[38;5;28;01mfrom\u001b[39;00m \u001b[38;5;21;01mgoogle\u001b[39;00m\u001b[38;5;21;01m.\u001b[39;00m\u001b[38;5;21;01mcloud\u001b[39;00m \u001b[38;5;28;01mimport\u001b[39;00m aiplatform, aiplatform_v1\n\u001b[1;32m      4\u001b[0m TIMESTAMP \u001b[38;5;241m=\u001b[39m datetime\u001b[38;5;241m.\u001b[39mnow()\u001b[38;5;241m.\u001b[39mstrftime(\u001b[38;5;124m\"\u001b[39m\u001b[38;5;124m%\u001b[39m\u001b[38;5;124mY\u001b[39m\u001b[38;5;124m%\u001b[39m\u001b[38;5;124mm\u001b[39m\u001b[38;5;132;01m%d\u001b[39;00m\u001b[38;5;124m%\u001b[39m\u001b[38;5;124mH\u001b[39m\u001b[38;5;124m%\u001b[39m\u001b[38;5;124mM\u001b[39m\u001b[38;5;124m%\u001b[39m\u001b[38;5;124mS\u001b[39m\u001b[38;5;124m\"\u001b[39m)\n\u001b[1;32m      6\u001b[0m \u001b[38;5;66;03m# create vertex pipeline job\u001b[39;00m\n",
      "\u001b[0;31mImportError\u001b[0m: cannot import name 'aiplatform' from 'google.cloud' (unknown location)"
     ]
    }
   ],
   "source": [
    "from datetime import datetime\n",
    "from google.cloud import aiplatform, aiplatform_v1\n",
    "\n",
    "TIMESTAMP = datetime.now().strftime(\"%Y%m%d%H%M%S\")\n",
    "\n",
    "# create vertex pipeline job\n",
    "api_client = aiplatform.PipelineJob(\n",
    "    display_name=\"ml-pipeline\",\n",
    "    template_path=\"pipeline.json\",\n",
    "    job_id=f\"ml-pipeline-{TIMESTAMP}\",\n",
    "    enable_caching=False,\n",
    "    project=project_id,\n",
    "    location=region,\n",
    "    parameter_values={\n",
    "        \"gcs_url\": gcs_url,\n",
    "#         \"train_ratio\": train_ratio,\n",
    "#         \"model_display_name\": model_display_name,\n",
    "#         \"model_name\": model_name,\n",
    "#         \"endpoint_name\": endpoint_name,\n",
    "#         project: str,\n",
    "#         \"location\": str,\n",
    "#         \"container_image\": container_image\n",
    "    }\n",
    ")\n",
    "\n",
    "# run vertex pipeline job\n",
    "api_client.submit(service_account=service_account)"
   ]
  },
  {
   "cell_type": "code",
   "execution_count": null,
   "id": "ae315205",
   "metadata": {},
   "outputs": [],
   "source": []
  }
 ],
 "metadata": {
  "kernelspec": {
   "display_name": "Python 3 (ipykernel)",
   "language": "python",
   "name": "python3"
  },
  "language_info": {
   "codemirror_mode": {
    "name": "ipython",
    "version": 3
   },
   "file_extension": ".py",
   "mimetype": "text/x-python",
   "name": "python",
   "nbconvert_exporter": "python",
   "pygments_lexer": "ipython3",
   "version": "3.9.17"
  }
 },
 "nbformat": 4,
 "nbformat_minor": 5
}
